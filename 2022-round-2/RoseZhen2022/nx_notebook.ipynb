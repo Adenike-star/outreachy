{
 "cells": [
  {
   "cell_type": "code",
   "execution_count": 4,
   "metadata": {},
   "outputs": [
    {
     "data": {
      "image/png": "[encoded data removed]",
      "text/plain": [
       "<Figure size 432x288 with 1 Axes>"
      ]
     },
     "metadata": {
      "needs_background": "light"
     },
     "output_type": "display_data"
    },
    {
     "data": {
      "text/plain": [
       "<Figure size 576x432 with 0 Axes>"
      ]
     },
     "metadata": {},
     "output_type": "display_data"
    }
   ],
   "source": [
    "import networkx as nx\n",
    "import matplotlib.pylab as plt\n",
    "\n",
    "# Create a random erdos-renyi graph with 100 nodes and a edge probability of 0.3.\n",
    "EG = nx.erdos_renyi_graph(100, 0.3)\n",
    "\n",
    "# Plot the degree_centrality distribution.\n",
    "degree_cal = nx.degree_centrality(EG)\n",
    "\n",
    "plt.hist(degree_cal.values(), color='g')\n",
    "plt.figure(figsize=(8, 6))\n",
    "plt.show()\n",
    "\n",
    "\n"
   ]
  },
  {
   "cell_type": "code",
   "execution_count": 2,
   "metadata": {},
   "outputs": [
    {
     "data": {
      "image/png": "[encoded data removed]",
      "text/plain": [
       "<Figure size 432x288 with 1 Axes>"
      ]
     },
     "metadata": {
      "needs_background": "light"
     },
     "output_type": "display_data"
    },
    {
     "data": {
      "text/plain": [
       "<Figure size 576x432 with 0 Axes>"
      ]
     },
     "metadata": {},
     "output_type": "display_data"
    }
   ],
   "source": [
    "# Change the edge probability of the erdos-reyni graph to 0.6 and plot the degree centrality distribution again.\n",
    "EG = nx.erdos_renyi_graph(100, 0.6)\n",
    "\n",
    "degree_cal = nx.degree_centrality(EG)\n",
    "\n",
    "plt.hist(degree_cal.values())\n",
    "plt.figure(figsize=(8, 6))\n",
    "plt.show()"
   ]
  },
  {
   "cell_type": "markdown",
   "metadata": {},
   "source": [
    "# why does the degree centrality distribution change.\n",
    "For each pair of nodes,  edges are created based on probability p. Higher p value means more edges are created in the graph and the degree centrality will increase."
   ]
  },
  {
   "cell_type": "code",
   "execution_count": 49,
   "metadata": {},
   "outputs": [
    {
     "data": {
      "image/png": "[encoded data removed]",
      "text/plain": [
       "<Figure size 432x288 with 1 Axes>"
      ]
     },
     "metadata": {
      "needs_background": "light"
     },
     "output_type": "display_data"
    },
    {
     "data": {
      "text/plain": [
       "<Figure size 576x432 with 0 Axes>"
      ]
     },
     "metadata": {},
     "output_type": "display_data"
    }
   ],
   "source": [
    " # Create a random barabasi_albert_graph with 100 nodes and attach 3 edges to a new node in the graph (m=3).\n",
    "BG = nx.barabasi_albert_graph(100, 3)\n",
    "\n",
    "# Plot the degree_centrality distribution.\n",
    "degree_cal = nx.degree_centrality(BG)\n",
    "\n",
    "plt.hist(degree_cal.values(), color='purple')\n",
    "plt.figure(figsize=(8, 6))\n",
    "plt.show()\n"
   ]
  },
  {
   "cell_type": "markdown",
   "metadata": {},
   "source": [
    "# why does the degree centrality distribution change between these 2 random graph generators.\n",
    "In the erdos_renyi_graph, each pair of nodes are connected with probability p. This means that no one node will have much higher degree than any other.\n",
    "\n",
    "In the barabasi_albert_graph, small set of connected nodes are started firstly. Then nodes are added one by one. When a new node is added, it is connected to existing nodes with m edges. As a result, the earlier ones tend to get higher degree."
   ]
  }
 ],
 "metadata": {
  "kernelspec": {
   "display_name": "Python 3.9.12 ('networkx')",
   "language": "python",
   "name": "python3"
  },
  "language_info": {
   "codemirror_mode": {
    "name": "ipython",
    "version": 3
   },
   "file_extension": ".py",
   "mimetype": "text/x-python",
   "name": "python",
   "nbconvert_exporter": "python",
   "pygments_lexer": "ipython3",
   "version": "3.9.12"
  },
  "orig_nbformat": 4,
  "vscode": {
   "interpreter": {
    "hash": "56316cb564a2a63ba663f65bcb17a2c7de5c76620ac3c1362215c91e879ed199"
   }
  }
 },
 "nbformat": 4,
 "nbformat_minor": 2
}
