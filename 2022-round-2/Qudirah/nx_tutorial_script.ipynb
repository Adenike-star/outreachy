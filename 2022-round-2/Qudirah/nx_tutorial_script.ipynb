{
 "cells": [
  {
   "cell_type": "code",
   "execution_count": 1,
   "id": "d18abb0b",
   "metadata": {},
   "outputs": [],
   "source": [
    "import networkx as nx\n",
    "import matplotlib as plt"
   ]
  },
  {
   "cell_type": "code",
   "execution_count": 8,
   "id": "f6b6b856",
   "metadata": {},
   "outputs": [
    {
     "name": "stdout",
     "output_type": "stream",
     "text": [
      "Collecting decorator==5.0.9\n",
      "  Downloading decorator-5.0.9-py3-none-any.whl (8.9 kB)\n",
      "Installing collected packages: decorator\n",
      "  Attempting uninstall: decorator\n",
      "    Found existing installation: decorator 5.0.6\n",
      "    Uninstalling decorator-5.0.6:\n",
      "      Successfully uninstalled decorator-5.0.6\n",
      "Successfully installed decorator-5.0.9\n",
      "Note: you may need to restart the kernel to use updated packages.\n"
     ]
    }
   ],
   "source": [
    "pip install decorator==5.0.9"
   ]
  },
  {
   "cell_type": "code",
   "execution_count": 2,
   "id": "101f31a1",
   "metadata": {},
   "outputs": [],
   "source": [
    "G=nx.DiGraph()"
   ]
  },
  {
   "cell_type": "code",
   "execution_count": 3,
   "id": "ddda7f86",
   "metadata": {},
   "outputs": [],
   "source": [
    "node_lists=['Qudirah','Outreachy','intern',5,(2,4)]\n",
    "G.add_nodes_from(node_lists)"
   ]
  },
  {
   "cell_type": "code",
   "execution_count": 4,
   "id": "1abd2d84",
   "metadata": {},
   "outputs": [],
   "source": [
    "edges_list=[('Qudirah','intern',{\"length\":1})\n",
    "            ,('intern','Outreachy',{\"length\":0.5}),('Qudirah',(2,4),{\"length\":5}),('intern',5,{\"length\":0.452}),('5',(2,4),{\"length\":10})]\n",
    "G.add_edges_from(edges_list)"
   ]
  },
  {
   "cell_type": "code",
   "execution_count": 5,
   "id": "ce08d995",
   "metadata": {},
   "outputs": [],
   "source": [
    "path=dict(nx.all_pairs_dijkstra_path_length(G,weight='length'))"
   ]
  },
  {
   "cell_type": "code",
   "execution_count": 6,
   "id": "4c48f24e",
   "metadata": {},
   "outputs": [
    {
     "name": "stdout",
     "output_type": "stream",
     "text": [
      "Shortest distance between Qudirah and Qudirah is 0\n",
      "Shortest distance between Qudirah and intern is 1\n",
      "Shortest distance between Qudirah and 5 is 1.452\n",
      "Shortest distance between Qudirah and Outreachy is 1.5\n",
      "Shortest distance between Qudirah and (2, 4) is 5\n",
      "Shortest distance between Outreachy and Outreachy is 0\n",
      "Shortest distance between intern and intern is 0\n",
      "Shortest distance between intern and 5 is 0.452\n",
      "Shortest distance between intern and Outreachy is 0.5\n",
      "Shortest distance between 5 and 5 is 0\n",
      "Shortest distance between (2, 4) and (2, 4) is 0\n"
     ]
    }
   ],
   "source": [
    "for i in node_lists:\n",
    "    for m,n in path[i].items():\n",
    "        print(\"Shortest distance between \"+str(i)+' and '+str(m)+' is '+str(n))"
   ]
  },
  {
   "cell_type": "code",
   "execution_count": 7,
   "id": "53b11f46",
   "metadata": {},
   "outputs": [
    {
     "data": {
      "image/png": "[encoded data removed]",
      "text/plain": [
       "<Figure size 432x288 with 1 Axes>"
      ]
     },
     "metadata": {},
     "output_type": "display_data"
    }
   ],
   "source": [
    "nx.draw(G,with_labels=True)"
   ]
  },
  {
   "cell_type": "code",
   "execution_count": null,
   "id": "06f0553a",
   "metadata": {},
   "outputs": [],
   "source": []
  }
 ],
 "metadata": {
  "kernelspec": {
   "display_name": "Python 3",
   "language": "python",
   "name": "python3"
  },
  "language_info": {
   "codemirror_mode": {
    "name": "ipython",
    "version": 3
   },
   "file_extension": ".py",
   "mimetype": "text/x-python",
   "name": "python",
   "nbconvert_exporter": "python",
   "pygments_lexer": "ipython3",
   "version": "3.8.8"
  }
 },
 "nbformat": 4,
 "nbformat_minor": 5
}
