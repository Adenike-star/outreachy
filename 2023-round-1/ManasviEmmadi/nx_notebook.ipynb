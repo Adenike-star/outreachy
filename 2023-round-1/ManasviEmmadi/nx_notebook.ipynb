{
  "nbformat": 4,
  "nbformat_minor": 0,
  "metadata": {
    "colab": {
      "provenance": []
    },
    "kernelspec": {
      "name": "python3",
      "display_name": "Python 3"
    },
    "language_info": {
      "name": "python"
    }
  },
  "cells": [
    {
      "cell_type": "code",
      "execution_count": 15,
      "metadata": {
        "colab": {
          "base_uri": "https://localhost:8080/"
        },
        "id": "htwSSY8nk2N2",
        "outputId": "5ac95b0f-655c-417e-f533-d6e7be0ebcc4"
      },
      "outputs": [
        {
          "output_type": "stream",
          "name": "stdout",
          "text": [
            "Looking in indexes: https://pypi.org/simple, https://us-python.pkg.dev/colab-wheels/public/simple/\n",
            "Requirement already satisfied: networkx in /usr/local/lib/python3.9/dist-packages (3.0)\n"
          ]
        }
      ],
      "source": [
        "!pip install networkx"
      ]
    },
    {
      "cell_type": "code",
      "source": [
        "import networkx as nx\n",
        "import matplotlib.pyplot as plt"
      ],
      "metadata": {
        "id": "il6i1JHymzoh"
      },
      "execution_count": 16,
      "outputs": []
    },
    {
      "cell_type": "code",
      "source": [
        "er_03 = nx.erdos_renyi_graph(100, 0.3)"
      ],
      "metadata": {
        "id": "2fijjtJNnTFQ"
      },
      "execution_count": 17,
      "outputs": []
    },
    {
      "cell_type": "code",
      "source": [
        "dc_erdos_03 = nx.degree_centrality(er_03)\n",
        "print(dc_erdos_03)"
      ],
      "metadata": {
        "colab": {
          "base_uri": "https://localhost:8080/"
        },
        "id": "2t0mqyh0q3Nh",
        "outputId": "66292750-c388-4190-9f0e-4715eea6eeba"
      },
      "execution_count": 18,
      "outputs": [
        {
          "output_type": "stream",
          "name": "stdout",
          "text": [
            "{0: 0.25252525252525254, 1: 0.27272727272727276, 2: 0.31313131313131315, 3: 0.20202020202020204, 4: 0.24242424242424243, 5: 0.26262626262626265, 6: 0.27272727272727276, 7: 0.27272727272727276, 8: 0.3535353535353536, 9: 0.22222222222222224, 10: 0.31313131313131315, 11: 0.32323232323232326, 12: 0.2828282828282829, 13: 0.22222222222222224, 14: 0.27272727272727276, 15: 0.27272727272727276, 16: 0.4040404040404041, 17: 0.27272727272727276, 18: 0.31313131313131315, 19: 0.37373737373737376, 20: 0.36363636363636365, 21: 0.2828282828282829, 22: 0.2828282828282829, 23: 0.36363636363636365, 24: 0.31313131313131315, 25: 0.37373737373737376, 26: 0.26262626262626265, 27: 0.37373737373737376, 28: 0.3434343434343435, 29: 0.33333333333333337, 30: 0.31313131313131315, 31: 0.30303030303030304, 32: 0.3535353535353536, 33: 0.30303030303030304, 34: 0.3535353535353536, 35: 0.32323232323232326, 36: 0.36363636363636365, 37: 0.3434343434343435, 38: 0.27272727272727276, 39: 0.31313131313131315, 40: 0.29292929292929293, 41: 0.2828282828282829, 42: 0.29292929292929293, 43: 0.26262626262626265, 44: 0.26262626262626265, 45: 0.33333333333333337, 46: 0.25252525252525254, 47: 0.33333333333333337, 48: 0.31313131313131315, 49: 0.27272727272727276, 50: 0.2828282828282829, 51: 0.25252525252525254, 52: 0.26262626262626265, 53: 0.21212121212121213, 54: 0.23232323232323235, 55: 0.29292929292929293, 56: 0.3535353535353536, 57: 0.29292929292929293, 58: 0.25252525252525254, 59: 0.2828282828282829, 60: 0.3434343434343435, 61: 0.3535353535353536, 62: 0.22222222222222224, 63: 0.30303030303030304, 64: 0.2828282828282829, 65: 0.31313131313131315, 66: 0.36363636363636365, 67: 0.33333333333333337, 68: 0.30303030303030304, 69: 0.30303030303030304, 70: 0.27272727272727276, 71: 0.22222222222222224, 72: 0.26262626262626265, 73: 0.3535353535353536, 74: 0.27272727272727276, 75: 0.30303030303030304, 76: 0.32323232323232326, 77: 0.2828282828282829, 78: 0.26262626262626265, 79: 0.38383838383838387, 80: 0.2828282828282829, 81: 0.29292929292929293, 82: 0.3535353535353536, 83: 0.29292929292929293, 84: 0.29292929292929293, 85: 0.2828282828282829, 86: 0.4141414141414142, 87: 0.32323232323232326, 88: 0.25252525252525254, 89: 0.30303030303030304, 90: 0.31313131313131315, 91: 0.22222222222222224, 92: 0.42424242424242425, 93: 0.2828282828282829, 94: 0.393939393939394, 95: 0.31313131313131315, 96: 0.27272727272727276, 97: 0.27272727272727276, 98: 0.29292929292929293, 99: 0.23232323232323235}\n"
          ]
        }
      ]
    },
    {
      "cell_type": "code",
      "source": [
        "list_erdos_03 = list(dc_erdos_03.values())\n",
        "plt.hist(list_erdos_03, bins=20)"
      ],
      "metadata": {
        "colab": {
          "base_uri": "https://localhost:8080/",
          "height": 404
        },
        "id": "P_FDyRvTs-7U",
        "outputId": "3fd593e7-3427-4bf6-8083-c14a35f812c5"
      },
      "execution_count": 19,
      "outputs": [
        {
          "output_type": "execute_result",
          "data": {
            "text/plain": [
              "(array([ 2.,  5.,  2.,  1.,  5.,  7., 12., 11.,  8.,  7., 14.,  4.,  3.,\n",
              "         7.,  4.,  3.,  1.,  1.,  1.,  2.]),\n",
              " array([0.2020202 , 0.21313131, 0.22424242, 0.23535354, 0.24646465,\n",
              "        0.25757576, 0.26868687, 0.27979798, 0.29090909, 0.3020202 ,\n",
              "        0.31313131, 0.32424242, 0.33535354, 0.34646465, 0.35757576,\n",
              "        0.36868687, 0.37979798, 0.39090909, 0.4020202 , 0.41313131,\n",
              "        0.42424242]),\n",
              " <BarContainer object of 20 artists>)"
            ]
          },
          "metadata": {},
          "execution_count": 19
        },
        {
          "output_type": "display_data",
          "data": {
            "text/plain": [
              "<Figure size 432x288 with 1 Axes>"
            ],
            "image/png": "[encoded data removed]"
          },
          "metadata": {
            "needs_background": "light"
          }
        }
      ]
    },
    {
      "cell_type": "code",
      "source": [
        "# Probability is 0.6\n",
        "er_06 = nx.erdos_renyi_graph(100, 0.6)"
      ],
      "metadata": {
        "id": "PaKh803ZxDq0"
      },
      "execution_count": 20,
      "outputs": []
    },
    {
      "cell_type": "code",
      "source": [
        "dc_erdos_06 = nx.degree_centrality(er_06)\n",
        "print(dc_erdos_06)"
      ],
      "metadata": {
        "colab": {
          "base_uri": "https://localhost:8080/"
        },
        "id": "HyftXkSZr5xo",
        "outputId": "22f874a9-ab96-403e-c69e-3ae185a9a4f8"
      },
      "execution_count": 21,
      "outputs": [
        {
          "output_type": "stream",
          "name": "stdout",
          "text": [
            "{0: 0.5252525252525253, 1: 0.5555555555555556, 2: 0.6363636363636365, 3: 0.6060606060606061, 4: 0.6161616161616162, 5: 0.5656565656565657, 6: 0.6363636363636365, 7: 0.6565656565656566, 8: 0.6565656565656566, 9: 0.6363636363636365, 10: 0.5858585858585859, 11: 0.5555555555555556, 12: 0.6262626262626263, 13: 0.6161616161616162, 14: 0.6565656565656566, 15: 0.5656565656565657, 16: 0.5353535353535354, 17: 0.6565656565656566, 18: 0.5757575757575758, 19: 0.5656565656565657, 20: 0.6161616161616162, 21: 0.6565656565656566, 22: 0.5858585858585859, 23: 0.6767676767676768, 24: 0.595959595959596, 25: 0.6565656565656566, 26: 0.6161616161616162, 27: 0.7070707070707072, 28: 0.6161616161616162, 29: 0.6464646464646465, 30: 0.6565656565656566, 31: 0.5757575757575758, 32: 0.6161616161616162, 33: 0.5555555555555556, 34: 0.5757575757575758, 35: 0.5757575757575758, 36: 0.6161616161616162, 37: 0.6161616161616162, 38: 0.595959595959596, 39: 0.48484848484848486, 40: 0.595959595959596, 41: 0.5858585858585859, 42: 0.686868686868687, 43: 0.6161616161616162, 44: 0.6464646464646465, 45: 0.6060606060606061, 46: 0.6666666666666667, 47: 0.6161616161616162, 48: 0.6060606060606061, 49: 0.6565656565656566, 50: 0.595959595959596, 51: 0.5656565656565657, 52: 0.5151515151515152, 53: 0.5252525252525253, 54: 0.6262626262626263, 55: 0.6060606060606061, 56: 0.5757575757575758, 57: 0.5454545454545455, 58: 0.494949494949495, 59: 0.5353535353535354, 60: 0.595959595959596, 61: 0.6161616161616162, 62: 0.5454545454545455, 63: 0.686868686868687, 64: 0.595959595959596, 65: 0.6464646464646465, 66: 0.5858585858585859, 67: 0.494949494949495, 68: 0.5858585858585859, 69: 0.6666666666666667, 70: 0.6262626262626263, 71: 0.6161616161616162, 72: 0.6161616161616162, 73: 0.5656565656565657, 74: 0.6262626262626263, 75: 0.5454545454545455, 76: 0.6666666666666667, 77: 0.6464646464646465, 78: 0.595959595959596, 79: 0.5858585858585859, 80: 0.595959595959596, 81: 0.5858585858585859, 82: 0.5656565656565657, 83: 0.6161616161616162, 84: 0.6262626262626263, 85: 0.5454545454545455, 86: 0.6060606060606061, 87: 0.5555555555555556, 88: 0.5454545454545455, 89: 0.696969696969697, 90: 0.7171717171717172, 91: 0.595959595959596, 92: 0.595959595959596, 93: 0.6363636363636365, 94: 0.6464646464646465, 95: 0.6666666666666667, 96: 0.595959595959596, 97: 0.5656565656565657, 98: 0.5656565656565657, 99: 0.6060606060606061}\n"
          ]
        }
      ]
    },
    {
      "cell_type": "code",
      "source": [
        "list_erdos_06 = list(dc_erdos_06.values())\n",
        "plt.hist(list_erdos_06, bins=20)"
      ],
      "metadata": {
        "colab": {
          "base_uri": "https://localhost:8080/",
          "height": 404
        },
        "id": "tGeDsW2QxaJ8",
        "outputId": "715dcd73-4d6c-4439-9228-0515dec68784"
      },
      "execution_count": 22,
      "outputs": [
        {
          "output_type": "execute_result",
          "data": {
            "text/plain": [
              "(array([ 3.,  0.,  1.,  2.,  2.,  5., 12.,  5.,  7., 11.,  6., 14.,  5.,\n",
              "         9.,  8.,  4.,  1.,  2.,  1.,  2.]),\n",
              " array([0.48484848, 0.49646465, 0.50808081, 0.51969697, 0.53131313,\n",
              "        0.54292929, 0.55454545, 0.56616162, 0.57777778, 0.58939394,\n",
              "        0.6010101 , 0.61262626, 0.62424242, 0.63585859, 0.64747475,\n",
              "        0.65909091, 0.67070707, 0.68232323, 0.69393939, 0.70555556,\n",
              "        0.71717172]),\n",
              " <BarContainer object of 20 artists>)"
            ]
          },
          "metadata": {},
          "execution_count": 22
        },
        {
          "output_type": "display_data",
          "data": {
            "text/plain": [
              "<Figure size 432x288 with 1 Axes>"
            ],
            "image/png": "[encoded data removed]"
          },
          "metadata": {
            "needs_background": "light"
          }
        }
      ]
    },
    {
      "cell_type": "markdown",
      "source": [
        "The higher the probability, the more chances a node has, to be connected with other nodes. The degree centrality metric is the number of neighbors of a node divided by the total number of possible neighbors. The degree centrality distribution changes when it comes to 0.6 because, compared to 0.3, 0.6 is a higher probability, more nodes are connected with each other, increasing the degree centrality for every node from 0.3. Higher the degree, more central the node is.<!--  . By providing a probability, say 0.3, When 0.3 was used as probabilty, one can see that the histogram is majorly on the lower level, peaking at around 0.3. It means that a node has, on an average, a probability of 0.3 to get connected to all nodes using edges(less edges). Similarly, for probability of 0.6(more edges). When a probability, say 0.6, is given for the nodes, it cannot be the 0.6 for every node. Some nodes have probability lesser than 0.6, and other greater than 0.6, in such a way that the peak degree centrality(using probability) is 0.6, giving us the histogram that we're seeing.  -->"
      ],
      "metadata": {
        "id": "MvAoouJKx9hV"
      }
    },
    {
      "cell_type": "code",
      "source": [
        "ba = nx.barabasi_albert_graph(100, 3)"
      ],
      "metadata": {
        "id": "lfxo7Qb8yDxU"
      },
      "execution_count": 23,
      "outputs": []
    },
    {
      "cell_type": "code",
      "source": [
        "dc_ba = nx.degree_centrality(ba)\n",
        "print(dc_ba)"
      ],
      "metadata": {
        "colab": {
          "base_uri": "https://localhost:8080/"
        },
        "id": "f9KwkFIPykEs",
        "outputId": "00066774-f7ea-4159-b631-9671ea408b3a"
      },
      "execution_count": 24,
      "outputs": [
        {
          "output_type": "stream",
          "name": "stdout",
          "text": [
            "{0: 0.4141414141414142, 1: 0.06060606060606061, 2: 0.11111111111111112, 3: 0.14141414141414144, 4: 0.18181818181818182, 5: 0.11111111111111112, 6: 0.20202020202020204, 7: 0.12121212121212122, 8: 0.14141414141414144, 9: 0.04040404040404041, 10: 0.09090909090909091, 11: 0.07070707070707072, 12: 0.12121212121212122, 13: 0.17171717171717174, 14: 0.10101010101010102, 15: 0.10101010101010102, 16: 0.030303030303030304, 17: 0.08080808080808081, 18: 0.07070707070707072, 19: 0.09090909090909091, 20: 0.05050505050505051, 21: 0.13131313131313133, 22: 0.07070707070707072, 23: 0.10101010101010102, 24: 0.07070707070707072, 25: 0.06060606060606061, 26: 0.05050505050505051, 27: 0.030303030303030304, 28: 0.06060606060606061, 29: 0.11111111111111112, 30: 0.06060606060606061, 31: 0.07070707070707072, 32: 0.05050505050505051, 33: 0.06060606060606061, 34: 0.05050505050505051, 35: 0.030303030303030304, 36: 0.04040404040404041, 37: 0.030303030303030304, 38: 0.05050505050505051, 39: 0.06060606060606061, 40: 0.09090909090909091, 41: 0.05050505050505051, 42: 0.030303030303030304, 43: 0.030303030303030304, 44: 0.030303030303030304, 45: 0.08080808080808081, 46: 0.030303030303030304, 47: 0.04040404040404041, 48: 0.04040404040404041, 49: 0.030303030303030304, 50: 0.05050505050505051, 51: 0.030303030303030304, 52: 0.030303030303030304, 53: 0.04040404040404041, 54: 0.030303030303030304, 55: 0.030303030303030304, 56: 0.030303030303030304, 57: 0.030303030303030304, 58: 0.04040404040404041, 59: 0.030303030303030304, 60: 0.05050505050505051, 61: 0.05050505050505051, 62: 0.030303030303030304, 63: 0.030303030303030304, 64: 0.05050505050505051, 65: 0.030303030303030304, 66: 0.030303030303030304, 67: 0.05050505050505051, 68: 0.04040404040404041, 69: 0.030303030303030304, 70: 0.030303030303030304, 71: 0.04040404040404041, 72: 0.05050505050505051, 73: 0.030303030303030304, 74: 0.030303030303030304, 75: 0.030303030303030304, 76: 0.030303030303030304, 77: 0.04040404040404041, 78: 0.030303030303030304, 79: 0.04040404040404041, 80: 0.04040404040404041, 81: 0.030303030303030304, 82: 0.030303030303030304, 83: 0.030303030303030304, 84: 0.04040404040404041, 85: 0.030303030303030304, 86: 0.030303030303030304, 87: 0.030303030303030304, 88: 0.030303030303030304, 89: 0.030303030303030304, 90: 0.030303030303030304, 91: 0.030303030303030304, 92: 0.04040404040404041, 93: 0.030303030303030304, 94: 0.030303030303030304, 95: 0.030303030303030304, 96: 0.030303030303030304, 97: 0.030303030303030304, 98: 0.030303030303030304, 99: 0.030303030303030304}\n"
          ]
        }
      ]
    },
    {
      "cell_type": "code",
      "source": [
        "list_ba = list(dc_ba.values())\n",
        "plt.hist(list_ba, bins=20)"
      ],
      "metadata": {
        "colab": {
          "base_uri": "https://localhost:8080/",
          "height": 404
        },
        "id": "3nx_LuJryonq",
        "outputId": "7428c362-a460-4d73-bbfe-32d3e80a5ad0"
      },
      "execution_count": 25,
      "outputs": [
        {
          "output_type": "execute_result",
          "data": {
            "text/plain": [
              "(array([57., 18.,  7.,  6.,  5.,  3.,  0.,  2.,  1.,  0.,  0.,  0.,  0.,\n",
              "         0.,  0.,  0.,  0.,  0.,  0.,  1.]),\n",
              " array([0.03030303, 0.04949495, 0.06868687, 0.08787879, 0.10707071,\n",
              "        0.12626263, 0.14545455, 0.16464646, 0.18383838, 0.2030303 ,\n",
              "        0.22222222, 0.24141414, 0.26060606, 0.27979798, 0.2989899 ,\n",
              "        0.31818182, 0.33737374, 0.35656566, 0.37575758, 0.39494949,\n",
              "        0.41414141]),\n",
              " <BarContainer object of 20 artists>)"
            ]
          },
          "metadata": {},
          "execution_count": 25
        },
        {
          "output_type": "display_data",
          "data": {
            "text/plain": [
              "<Figure size 432x288 with 1 Axes>"
            ],
            "image/png": "[encoded data removed]"
          },
          "metadata": {
            "needs_background": "light"
          }
        }
      ]
    },
    {
      "cell_type": "markdown",
      "source": [
        "# **Difference between 2 graphs:** <br>\n",
        "The differences that can be observed from the distributions are, that in Erdos-renyi graph, all nodes seem to have equal proirity according to the given probability, since the degree centrality lies around the given probability. It tells that in this graph, all nodes will be given equal priority to maintain the same centrality. <br>\n",
        "In Barabasi-Albert distribution, the degree centrality lies close to zero, that suggests that a large number of nodes have low centrality, telling that only a few nodes have high centrality. This tells us that the algorithm gives priority to only a few nodes, by having more edges with only those few nodes with other low centrality nodes."
      ],
      "metadata": {
        "id": "uquBvx5by-2A"
      }
    }
  ]
}