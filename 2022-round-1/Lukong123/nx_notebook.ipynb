{
 "cells": [
  {
   "cell_type": "code",
   "execution_count": 11,
   "metadata": {},
   "outputs": [],
   "source": [
    "import networkx as nx\n",
    "import matplotlib.pyplot as plt"
   ]
  },
  {
   "cell_type": "markdown",
   "metadata": {},
   "source": [
    "## Creating a random erdos renyi graph"
   ]
  },
  {
   "cell_type": "code",
   "execution_count": 12,
   "metadata": {},
   "outputs": [],
   "source": [
    "n = 100 # nodes = 100\n",
    "p = 0.3 # edge probability = 0.3\n",
    "G = nx.erdos_renyi_graph(n, p)"
   ]
  },
  {
   "cell_type": "markdown",
   "metadata": {},
   "source": [
    "## Plotting a degree centrality distribution histogram of the degree centrality values"
   ]
  },
  {
   "cell_type": "code",
   "execution_count": 13,
   "metadata": {},
   "outputs": [
    {
     "data": {
      "image/png": "[encoded data removed]",
      "text/plain": [
       "<Figure size 432x288 with 1 Axes>"
      ]
     },
     "metadata": {
      "needs_background": "light"
     },
     "output_type": "display_data"
    }
   ],
   "source": [
    "deg_centrality = nx.degree_centrality(G)\n",
    "plt.hist(list(deg_centrality.values()))\n",
    "plt.title('Degree Centrality of an erdos renyi graph with p = 0.3')\n",
    "plt.show()"
   ]
  },
  {
   "cell_type": "code",
   "execution_count": 14,
   "metadata": {},
   "outputs": [
    {
     "data": {
      "image/png": "[encoded data removed]",
      "text/plain": [
       "<Figure size 432x288 with 1 Axes>"
      ]
     },
     "metadata": {
      "needs_background": "light"
     },
     "output_type": "display_data"
    }
   ],
   "source": [
    "n = 100 # nodes = 100\n",
    "p2 = 0.6 # edge probability = 0.6\n",
    "G2 = nx.erdos_renyi_graph(n, p2)\n",
    "deg2_centrality = nx.degree_centrality(G2)\n",
    "plt.hist(list(deg2_centrality.values())) # plotting a hsitogram for the degree centality\n",
    "plt.title('Degree Centrality of an erdos renyi graph with p = 0.6')\n",
    "plt.show()"
   ]
  },
  {
   "cell_type": "markdown",
   "metadata": {},
   "source": [
    "### why does the degree centrality distribution change.\n",
    "What is degree centrality? \n",
    "The degree centrality is the number of neighbors divided by all possible neighbors that it could have. Depending on whether self-loops are allowed, the set of possible neighbors a node could have could also include the node itself.\n",
    "\n",
    "The nx.degree_centrality(G) function returns a dictionary, where the keys are the nodes and the values are their degree centrality values.\n",
    "\n",
    "The difference between the two graphs above is as a result to their difference in ** edge probability **\n",
    "#### Observation\n",
    "The frequency of the first histogram(0.3) looks higher than that of the second histogram (with edge probability = 0.6)\n",
    "\n",
    "#### Conclusion\n",
    "The higher to edge probability the more likely it is to include graph with more edges adn the less likely it is to include graph with fewer edges."
   ]
  },
  {
   "cell_type": "markdown",
   "metadata": {},
   "source": [
    "## Creating a Barabasi Albert Graph"
   ]
  },
  {
   "cell_type": "code",
   "execution_count": 15,
   "metadata": {},
   "outputs": [],
   "source": [
    "n = 100 # n = 100 \n",
    "m = 3 # edges = 3\n",
    "BG = nx.barabasi_albert_graph(n, m)"
   ]
  },
  {
   "cell_type": "markdown",
   "metadata": {},
   "source": [
    "## Plotting the degree centrality of a barabasi albert graph"
   ]
  },
  {
   "cell_type": "code",
   "execution_count": 16,
   "metadata": {},
   "outputs": [
    {
     "data": {
      "image/png": "[encoded data removed]",
      "text/plain": [
       "<Figure size 432x288 with 1 Axes>"
      ]
     },
     "metadata": {
      "needs_background": "light"
     },
     "output_type": "display_data"
    }
   ],
   "source": [
    "b_deg_centrality = nx.degree_centrality(BG)\n",
    "plt.hist(list(b_deg_centrality.values()))\n",
    "plt.title('Degree Centrality of a barabasi albert graph')\n",
    "plt.show()"
   ]
  },
  {
   "cell_type": "markdown",
   "metadata": {},
   "source": [
    "### Difference between the degree centrality of Erdos Renyi grah and Barabasi Albert graph.\n",
    "\n",
    "#### Observation\n",
    "From the histogram of the different random graph, it is obvious that the Erdos Renyi Graph has more nodes which have a higher degree centrality value and for the Barabasi Albert histogram there are only very few nodes with a high degree centrality value.\n",
    "\n",
    "#### Conclusion\n",
    "In the Erdos Renyi netowrk, no one node will have much higher degree than any other because nodes are assigned and each pair is connected with probability.\n",
    "\n",
    "\n",
    "While for Barabasi Albert graph, nodes are equally assigned but, they are added one at a time. When a node is added it is connected to a small number of existing nodes with probability proportional to the degree of existing nodes as a result the earlier nodes tend to have a higher degree. This explains why the histogram here has a very few nodes with high degree centrality value \n"
   ]
  }
 ],
 "metadata": {
  "interpreter": {
   "hash": "916dbcbb3f70747c44a77c7bcd40155683ae19c65e1c03b4aa3499c5328201f1"
  },
  "kernelspec": {
   "display_name": "Python 3.8.10 64-bit",
   "language": "python",
   "name": "python3"
  },
  "language_info": {
   "codemirror_mode": {
    "name": "ipython",
    "version": 3
   },
   "file_extension": ".py",
   "mimetype": "text/x-python",
   "name": "python",
   "nbconvert_exporter": "python",
   "pygments_lexer": "ipython3",
   "version": "3.8.10"
  },
  "orig_nbformat": 4
 },
 "nbformat": 4,
 "nbformat_minor": 2
}
